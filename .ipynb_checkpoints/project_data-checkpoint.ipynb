{
 "cells": [
  {
   "cell_type": "code",
   "execution_count": 82,
   "metadata": {},
   "outputs": [],
   "source": [
    "import pandas as pd\n",
    "from sklearn.utils import shuffle\n",
    "\n",
    "data_dir = 'data'\n",
    "dataset_file = '{}/combined_result_small.tsv'.format(data_dir)\n",
    "embeddings_file = '{}/embedding_results_small.csv'.format(data_dir)\n",
    "\n",
    "# load csv with combined news headlines, deltas as labels\n",
    "# label, delta, embedding(512)\n",
    "\n",
    "dataset = pd.read_table(dataset_file).values\n",
    "embeddings = np.loadtxt(embeddings_file, delimiter=', ')\n",
    "\n",
    "labels = dataset[-2]"
   ]
  },
  {
   "cell_type": "code",
   "execution_count": 83,
   "metadata": {},
   "outputs": [
    {
     "data": {
      "text/plain": [
       "array([['2014-03-10',\n",
       "        'Fed official says weak data caused by weather, should not slow taper',\n",
       "        'www.latimes.com', 'b', 1, 34.419921, 1, 0.689941],\n",
       "       ['2014-03-10',\n",
       "        \"Fed's Charles Plosser sees high bar for change in pace of tapering\",\n",
       "        'www.livemint.com', 'b', 1, 34.419921, 1, 0.689941],\n",
       "       ['2014-03-10',\n",
       "        'US open: Stocks fall after Fed official hints at accelerated tapering',\n",
       "        'www.ifamagazine.com', 'b', 1, 34.419921, 1, 0.689941],\n",
       "       ['2014-03-10',\n",
       "        \"Fed risks falling 'behind the curve', Charles Plosser says\",\n",
       "        'www.ifamagazine.com', 'b', 1, 34.419921, 1, 0.689941]],\n",
       "      dtype=object)"
      ]
     },
     "execution_count": 83,
     "metadata": {},
     "output_type": "execute_result"
    }
   ],
   "source": [
    "dataset"
   ]
  },
  {
   "cell_type": "code",
   "execution_count": 84,
   "metadata": {},
   "outputs": [
    {
     "data": {
      "text/plain": [
       "array([[ 0.04579201,  0.03269383, -0.00375404, ...,  0.02938574,\n",
       "        -0.02176463, -0.04777297],\n",
       "       [ 0.08121132, -0.04751555, -0.02871752, ..., -0.06852572,\n",
       "        -0.0131758 , -0.01403511],\n",
       "       [ 0.00597012, -0.05842545, -0.06021343, ..., -0.03694149,\n",
       "        -0.02046196,  0.02215034],\n",
       "       [ 0.06514721,  0.03721883, -0.0392865 , ..., -0.02712923,\n",
       "        -0.06618198, -0.0601415 ]])"
      ]
     },
     "execution_count": 84,
     "metadata": {},
     "output_type": "execute_result"
    }
   ],
   "source": [
    "embeddings"
   ]
  },
  {
   "cell_type": "code",
   "execution_count": 92,
   "metadata": {},
   "outputs": [
    {
     "data": {
      "text/plain": [
       "array([['2014-03-10',\n",
       "        \"Fed risks falling 'behind the curve', Charles Plosser says\",\n",
       "        'www.ifamagazine.com', 'b', 1, 34.419921, 1, 0.689941],\n",
       "       ['2014-03-10',\n",
       "        'Fed official says weak data caused by weather, should not slow taper',\n",
       "        'www.latimes.com', 'b', 1, 34.419921, 1, 0.689941],\n",
       "       ['2014-03-10',\n",
       "        \"Fed's Charles Plosser sees high bar for change in pace of tapering\",\n",
       "        'www.livemint.com', 'b', 1, 34.419921, 1, 0.689941]], dtype=object)"
      ]
     },
     "execution_count": 92,
     "metadata": {},
     "output_type": "execute_result"
    }
   ],
   "source": [
    "shuf(dataset)[0]"
   ]
  },
  {
   "cell_type": "code",
   "execution_count": 88,
   "metadata": {},
   "outputs": [
    {
     "data": {
      "text/plain": [
       "array([[ 0.00597012, -0.05842545, -0.06021343, ..., -0.03694149,\n",
       "        -0.02046196,  0.02215034],\n",
       "       [ 0.08121132, -0.04751555, -0.02871752, ..., -0.06852572,\n",
       "        -0.0131758 , -0.01403511],\n",
       "       [ 0.06514721,  0.03721883, -0.0392865 , ..., -0.02712923,\n",
       "        -0.06618198, -0.0601415 ]])"
      ]
     },
     "execution_count": 88,
     "metadata": {},
     "output_type": "execute_result"
    }
   ],
   "source": [
    "shuf(embeddings)[0]"
   ]
  },
  {
   "cell_type": "code",
   "execution_count": 93,
   "metadata": {},
   "outputs": [],
   "source": [
    "def shuf(collection):\n",
    "    np.random.seed(7)\n",
    "    rnd.shuffle(collection) # shuffles the ordering of filenames (deterministic given the chosen seed)\n",
    "\n",
    "    split_1 = int(0.8 * len(collection))\n",
    "    split_2 = int(0.9 * len(collection))\n",
    "    train_filenames = collection[:split_1]\n",
    "    dev_filenames = collection[split_1:split_2]\n",
    "    test_filenames = collection[split_2:]\n",
    "    return train_filenames, dev_filenames, test_filenames"
   ]
  },
  {
   "cell_type": "code",
   "execution_count": 94,
   "metadata": {},
   "outputs": [],
   "source": [
    "def df_shuf(collection):\n",
    "    np.random.seed(7)\n",
    "    collection.sample(frac=1, random_state=rnd)  # shuffles the ordering of filenames (deterministic given the chosen seed)\n",
    "\n",
    "    split_1 = int(0.8 * len(collection))\n",
    "    split_2 = int(0.9 * len(collection))\n",
    "    train_filenames = collection[:split_1]\n",
    "    dev_filenames = collection[split_1:split_2]\n",
    "    test_filenames = collection[split_2:]\n",
    "    return train_filenames, dev_filenames, test_filenames"
   ]
  },
  {
   "cell_type": "code",
   "execution_count": null,
   "metadata": {},
   "outputs": [],
   "source": []
  }
 ],
 "metadata": {
  "kernelspec": {
   "display_name": "tensorflow",
   "language": "python",
   "name": "myenv"
  },
  "language_info": {
   "codemirror_mode": {
    "name": "ipython",
    "version": 3
   },
   "file_extension": ".py",
   "mimetype": "text/x-python",
   "name": "python",
   "nbconvert_exporter": "python",
   "pygments_lexer": "ipython3",
   "version": "3.5.0"
  }
 },
 "nbformat": 4,
 "nbformat_minor": 2
}
