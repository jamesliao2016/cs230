{
 "cells": [
  {
   "cell_type": "code",
   "execution_count": 7,
   "metadata": {},
   "outputs": [],
   "source": [
    "import pandas as pd\n",
    "\n",
    "data_dir = 'data'\n",
    "dataset_file = '{}/combined_result.tsv'.format(data_dir)\n",
    "embeddings_file = '{}/embedding_results_small.csv'.format(data_dir)\n",
    "\n",
    "# load csv with combined news headlines, deltas as labels\n",
    "# label, delta, embedding(512)\n",
    "\n",
    "dataset = pd.read_table(dataset_file)\n",
    "embeddings = np.loadtxt(embeddings_file, delimiter=', ')\n",
    "\n",
    "labels, deltas = dataset[['sp_label', 'sp_delta']]"
   ]
  },
  {
   "cell_type": "code",
   "execution_count": 19,
   "metadata": {},
   "outputs": [
    {
     "data": {
      "text/plain": [
       "0         0.689941\n",
       "1         0.689941\n",
       "2         0.689941\n",
       "3         0.689941\n",
       "4         0.689941\n",
       "5         0.689941\n",
       "6         0.689941\n",
       "7         0.689941\n",
       "8         0.689941\n",
       "9         0.689941\n",
       "10        0.689941\n",
       "11        0.689941\n",
       "12        0.689941\n",
       "13        0.689941\n",
       "14        0.689941\n",
       "15        0.689941\n",
       "16        0.689941\n",
       "17        0.689941\n",
       "18        0.689941\n",
       "19        0.689941\n",
       "20        0.689941\n",
       "21        0.689941\n",
       "22        0.689941\n",
       "23        0.689941\n",
       "24        0.689941\n",
       "25        0.689941\n",
       "26        0.689941\n",
       "27        0.689941\n",
       "28        0.689941\n",
       "29        0.689941\n",
       "           ...    \n",
       "9971     22.720093\n",
       "9972     22.720093\n",
       "9973     22.720093\n",
       "9974     22.720093\n",
       "9975     22.720093\n",
       "9976     22.720093\n",
       "9977     22.720093\n",
       "9978     22.720093\n",
       "9979     22.720093\n",
       "9980     22.720093\n",
       "9981     22.720093\n",
       "9982     22.720093\n",
       "9983     22.720093\n",
       "9984     22.720093\n",
       "9985     22.720093\n",
       "9986     22.720093\n",
       "9987     22.720093\n",
       "9988     22.720093\n",
       "9989     22.720093\n",
       "9990     22.720093\n",
       "9991     22.720093\n",
       "9992     22.720093\n",
       "9993     22.720093\n",
       "9994     22.720093\n",
       "9995     22.720093\n",
       "9996     22.720093\n",
       "9997     22.720093\n",
       "9998     22.720093\n",
       "9999     22.720093\n",
       "10000    22.720093\n",
       "Name: sp_delta, Length: 10001, dtype: float64"
      ]
     },
     "execution_count": 19,
     "metadata": {},
     "output_type": "execute_result"
    }
   ],
   "source": [
    "dataset['sp_delta']"
   ]
  },
  {
   "cell_type": "code",
   "execution_count": null,
   "metadata": {},
   "outputs": [],
   "source": []
  }
 ],
 "metadata": {
  "kernelspec": {
   "display_name": "tensorflow",
   "language": "python",
   "name": "myenv"
  },
  "language_info": {
   "codemirror_mode": {
    "name": "ipython",
    "version": 3
   },
   "file_extension": ".py",
   "mimetype": "text/x-python",
   "name": "python",
   "nbconvert_exporter": "python",
   "pygments_lexer": "ipython3",
   "version": "3.5.0"
  }
 },
 "nbformat": 4,
 "nbformat_minor": 2
}
